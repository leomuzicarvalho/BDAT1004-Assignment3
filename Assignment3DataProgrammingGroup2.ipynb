{
 "cells": [
  {
   "cell_type": "markdown",
   "metadata": {},
   "source": [
    "Question 1"
   ]
  },
  {
   "cell_type": "code",
   "execution_count": 1,
   "metadata": {},
   "outputs": [
    {
     "name": "stdout",
     "output_type": "stream",
     "text": [
      "enter x1:2\n",
      "enter y1:2\n",
      "enter x2:5\n",
      "enter y2:5\n",
      "enter x3\n",
      "enter y3\n",
      "True\n"
     ]
    }
   ],
   "source": [
    "x1 = input('enter x1:')\n",
    "y1= input('enter y1:')\n",
    "x2= input ('enter x2:')\n",
    "y2 = input ('enter y2:')\n",
    "x= input('enter x')\n",
    "y= input('enter y')\n",
    "\n",
    "if (x>=x1 and x<=x2) and (y>=y1 and y<=y2):\n",
    "    print (7>5)\n",
    "else:\n",
    "    print (5>7)"
   ]
  },
  {
   "cell_type": "markdown",
   "metadata": {},
   "source": [
    "Question 2"
   ]
  },
  {
   "cell_type": "code",
   "execution_count": 2,
   "metadata": {},
   "outputs": [
    {
     "name": "stdout",
     "output_type": "stream",
     "text": [
      "Stockhausen\n",
      "Stravinsky\n"
     ]
    }
   ],
   "source": [
    "r=['Rzewski', 'Ruggles', 'Carter', 'Stockhausen', 'Stravinsky']\n",
    "for i in r:  \n",
    "    if len(i) >= 10:\n",
    "        print (i)"
   ]
  },
  {
   "cell_type": "markdown",
   "metadata": {},
   "source": [
    "Question 3"
   ]
  },
  {
   "cell_type": "code",
   "execution_count": 3,
   "metadata": {},
   "outputs": [
    {
     "name": "stdout",
     "output_type": "stream",
     "text": [
      "Antheil\n",
      "Elgar\n",
      "Chadwick\n",
      "Parker\n"
     ]
    }
   ],
   "source": [
    "for word in ['Antheil', 'Elgar', 'Saint-Saens', 'Chadwick', 'Coleridge-Taylor', 'Parker', 'Castelnuovo-Tedesco']:\n",
    "    if '-'  not in word:\n",
    "        print (word)"
   ]
  },
  {
   "cell_type": "markdown",
   "metadata": {},
   "source": [
    "Question 4"
   ]
  },
  {
   "cell_type": "code",
   "execution_count": 4,
   "metadata": {},
   "outputs": [
    {
     "name": "stdout",
     "output_type": "stream",
     "text": [
      "enter word: salah\n",
      "alahsay\n"
     ]
    }
   ],
   "source": [
    "def pig():\n",
    "    r = input('enter word: ')\n",
    "    if (r[0] == 'a' or r[0] == 'e' or r[0] =='i' or r[0] =='o' or r[0] =='u'):\n",
    "        print (r + \"way\")\n",
    "    else:\n",
    "        p= r[1:] + r[0] + \"ay\"\n",
    "        print (p)\n",
    "pig()"
   ]
  },
  {
   "cell_type": "markdown",
   "metadata": {},
   "source": [
    "Question 5"
   ]
  },
  {
   "cell_type": "code",
   "execution_count": 3,
   "metadata": {},
   "outputs": [
    {
     "name": "stdout",
     "output_type": "stream",
     "text": [
      "Enter a weekday:Friday\n",
      "Enter a month:June\n",
      "Enter a day in the month:06\n",
      "Enter a year2020\n",
      "Fri, Jun 06, 2020\n"
     ]
    }
   ],
   "source": [
    "weekday = input(\"Enter a weekday:\")\n",
    "month = input(\"Enter a month:\")\n",
    "day = input(\"Enter a day in the month:\")\n",
    "year = input(\"Enter a year\")\n",
    "\n",
    "def date(weekday, month, day, year):\n",
    "    formatedDate = weekday[0]+weekday[1]+weekday[2]+\", \"+month[0]+month[1]+month[2]+\" \"+day+\", \"+year\n",
    "    return formatedDate\n",
    "    \n",
    "theDate = date(weekday,month,day,year)\n",
    "print(theDate)"
   ]
  },
  {
   "cell_type": "markdown",
   "metadata": {},
   "source": [
    "Question 6"
   ]
  },
  {
   "cell_type": "code",
   "execution_count": 36,
   "metadata": {},
   "outputs": [
    {
     "name": "stdout",
     "output_type": "stream",
     "text": [
      "Sensible Party                      29412 49.98%    \n",
      "Silly Party                         29397 49.96%    \n",
      "Very Silly Party                       37 0.06%     \n"
     ]
    }
   ],
   "source": [
    "def electionresults():\n",
    "    list1=['Sensible', 'Silly', 'Very Silly']\n",
    "    list2=[29412, 29397, 37]\n",
    "    for i in range (len(list1)):\n",
    "        print('{:30}'.format(list1[i]+\" Party\"), '{:10}'.format(list2[i]), '{:10}'.format(str(round((list2[i]/sum(list2))*100,2))+\"%\"))\n",
    "              \n",
    "electionresults()"
   ]
  },
  {
   "cell_type": "markdown",
   "metadata": {},
   "source": [
    "Question 7"
   ]
  },
  {
   "cell_type": "code",
   "execution_count": 8,
   "metadata": {},
   "outputs": [
    {
     "name": "stdout",
     "output_type": "stream",
     "text": [
      "3\n"
     ]
    }
   ],
   "source": [
    "def countWord(file, word):\n",
    "    f = open(file, \"r\")\n",
    "    counter = 0\n",
    "    splitted = f.read().split()\n",
    "    for Fword in splitted:\n",
    "        if (word in Fword):\n",
    "            counter+=1\n",
    "    print(counter)\n",
    "\n",
    "countWord('gettysburg.txt', 'people')"
   ]
  },
  {
   "cell_type": "markdown",
   "metadata": {},
   "source": [
    "Question 8"
   ]
  },
  {
   "cell_type": "code",
   "execution_count": 35,
   "metadata": {},
   "outputs": [
    {
     "name": "stdout",
     "output_type": "stream",
     "text": [
      "There are:\n",
      "13 AB blood type patients.\n",
      "15 A blood type patients.\n",
      "1 B blood type patients.\n",
      "15 O blood type patients.\n",
      "0 OO blood type patients.\n"
     ]
    }
   ],
   "source": [
    "with open('bloodtype1.txt','r') as f:\n",
    "    AB = 0\n",
    "    B = 0\n",
    "    A = 0\n",
    "    O = 0\n",
    "    OO = 0\n",
    "    for line in f:\n",
    "        for word in line.split():\n",
    "            if (word == \"AB\"):\n",
    "                AB+=1\n",
    "            elif(word == \"A\"):\n",
    "                A+=1\n",
    "            elif(word == \"B\"):\n",
    "                B+=1\n",
    "            elif(word == \"O\"):\n",
    "                O+=1\n",
    "            elif(word == \"OO\"):\n",
    "                OO+=1\n",
    "    print(\"There are:\")\n",
    "    print(AB,\"AB blood type patients.\")\n",
    "    print(A,\"A blood type patients.\")\n",
    "    print(B,\"B blood type patients.\")\n",
    "    print(O,\"O blood type patients.\")\n",
    "    print(OO,\"OO blood type patients.\")"
   ]
  },
  {
   "cell_type": "markdown",
   "metadata": {},
   "source": [
    "Question 9"
   ]
  },
  {
   "cell_type": "code",
   "execution_count": 36,
   "metadata": {},
   "outputs": [],
   "source": [
    "with open('log.txt','a') as f:\n",
    "    f.write(\"“Processing complete, ending program normally.”\")\n",
    "    f.close()"
   ]
  },
  {
   "cell_type": "markdown",
   "metadata": {},
   "source": [
    "Question 10"
   ]
  },
  {
   "cell_type": "code",
   "execution_count": 20,
   "metadata": {},
   "outputs": [
    {
     "name": "stdout",
     "output_type": "stream",
     "text": [
      "'The price of freedom is eternal vigilance.' Thomas Jefferson\n",
      "'Anyone who considers arithmetical methods of producing random digits is, of course, in a state of sin.' John Von Neumann\n",
      "'And so it often happens that an apparently ingenious idea is in fact a weakness which the scientific cryptographer seizes on for his solution.' Herbert Yardley\n"
     ]
    }
   ],
   "source": [
    "def quotes(text):\n",
    "    f = open('quotes.txt', 'r')\n",
    "    fSplit = list(filter(None, f.read().split('\\n')))\n",
    "    for quotation in fSplit:\n",
    "        if(text in quotation):\n",
    "            print(quotation)\n",
    "    \n",
    "quotes(\"is\")"
   ]
  },
  {
   "cell_type": "markdown",
   "metadata": {},
   "source": [
    "Question 11"
   ]
  },
  {
   "cell_type": "code",
   "execution_count": 37,
   "metadata": {},
   "outputs": [
    {
     "name": "stdout",
     "output_type": "stream",
     "text": [
      "Please enter your name: haLL\n",
      "The percentage of your name is: 0.17555 %\n",
      "There are approximately 52665000 people with similar last name.\n"
     ]
    }
   ],
   "source": [
    "import re\n",
    "def namePerc(inp):\n",
    "    with open('last.txt','r') as f:\n",
    "        for line in f:\n",
    "            for word in line.split():\n",
    "                if (word.lower() == inp.lower()):\n",
    "                    percent = re.search('\\d*?\\.\\d+', line)\n",
    "                    percentage = float(percent.group())\n",
    "                    print(\"The percentage of your name is:\",percentage,\"%\")\n",
    "                    total = (3*10**8) * (percentage)\n",
    "                    print(\"There are approximately\",int(total),\"people with similar last name.\")\n",
    "    f.close()\n",
    "inp = input(\"Please enter your name: \")\n",
    "namePerc(inp)"
   ]
  },
  {
   "cell_type": "markdown",
   "metadata": {},
   "source": [
    "Question 12"
   ]
  },
  {
   "cell_type": "code",
   "execution_count": 38,
   "metadata": {},
   "outputs": [
    {
     "name": "stdout",
     "output_type": "stream",
     "text": [
      "Please input your currency 'in CAPS': CHF\n",
      "Please input amount: 203.3\n",
      "rate for CHF is: 1.0237414\n",
      "Amount in USD is: 208.12662662000002 USD\n"
     ]
    }
   ],
   "source": [
    "import re\n",
    "def curconv(currency,amount):\n",
    "    with open('currencies.txt','r') as f:\n",
    "        for line in f:\n",
    "            for word in line.split():\n",
    "                if(word == currency):\n",
    "                    rates = re.search('\\d*?\\.\\d+', line)\n",
    "                    rate = float(rates.group())\n",
    "                    print(\"rate for\",word,\"is:\",rate)\n",
    "                    converted = amount*rate\n",
    "                    print(\"Amount in USD is:\",converted,\"USD\")\n",
    "    f.close()\n",
    "curr = input(\"Please input your currency 'in CAPS': \")\n",
    "am = float(input(\"Please input amount: \"))\n",
    "curconv(curr,am)"
   ]
  },
  {
   "cell_type": "markdown",
   "metadata": {},
   "source": [
    "Question 13"
   ]
  },
  {
   "cell_type": "code",
   "execution_count": 21,
   "metadata": {},
   "outputs": [
    {
     "ename": "TypeError",
     "evalue": "can only concatenate str (not \"int\") to str",
     "output_type": "error",
     "traceback": [
      "\u001b[1;31m---------------------------------------------------------------------------\u001b[0m",
      "\u001b[1;31mTypeError\u001b[0m                                 Traceback (most recent call last)",
      "\u001b[1;32m<ipython-input-21-571a2a1458b1>\u001b[0m in \u001b[0;36m<module>\u001b[1;34m\u001b[0m\n\u001b[1;32m----> 1\u001b[1;33m \u001b[1;34m'a'\u001b[0m \u001b[1;33m+\u001b[0m \u001b[1;36m123141\u001b[0m\u001b[1;33m\u001b[0m\u001b[1;33m\u001b[0m\u001b[0m\n\u001b[0m",
      "\u001b[1;31mTypeError\u001b[0m: can only concatenate str (not \"int\") to str"
     ]
    }
   ],
   "source": [
    "'a' + 123141"
   ]
  },
  {
   "cell_type": "markdown",
   "metadata": {},
   "source": [
    "Can't add string and int, they are different types of data."
   ]
  },
  {
   "cell_type": "code",
   "execution_count": 26,
   "metadata": {},
   "outputs": [
    {
     "name": "stdout",
     "output_type": "stream",
     "text": [
      "list range: 8\n",
      "You can go up to 7\n"
     ]
    },
    {
     "ename": "IndexError",
     "evalue": "list index out of range",
     "output_type": "error",
     "traceback": [
      "\u001b[1;31m---------------------------------------------------------------------------\u001b[0m",
      "\u001b[1;31mIndexError\u001b[0m                                Traceback (most recent call last)",
      "\u001b[1;32m<ipython-input-26-f10817acb4e9>\u001b[0m in \u001b[0;36m<module>\u001b[1;34m\u001b[0m\n\u001b[0;32m      2\u001b[0m \u001b[0mprint\u001b[0m\u001b[1;33m(\u001b[0m\u001b[1;34m\"list range:\"\u001b[0m\u001b[1;33m,\u001b[0m \u001b[0mlen\u001b[0m\u001b[1;33m(\u001b[0m\u001b[0mlist\u001b[0m\u001b[1;33m)\u001b[0m\u001b[1;33m)\u001b[0m\u001b[1;33m\u001b[0m\u001b[1;33m\u001b[0m\u001b[0m\n\u001b[0;32m      3\u001b[0m \u001b[0mprint\u001b[0m\u001b[1;33m(\u001b[0m\u001b[1;34m\"You can go up to\"\u001b[0m\u001b[1;33m,\u001b[0m \u001b[0mlen\u001b[0m\u001b[1;33m(\u001b[0m\u001b[0mlist\u001b[0m\u001b[1;33m)\u001b[0m\u001b[1;33m-\u001b[0m\u001b[1;36m1\u001b[0m\u001b[1;33m)\u001b[0m\u001b[1;33m\u001b[0m\u001b[1;33m\u001b[0m\u001b[0m\n\u001b[1;32m----> 4\u001b[1;33m \u001b[0mlist\u001b[0m\u001b[1;33m[\u001b[0m\u001b[1;36m8\u001b[0m\u001b[1;33m]\u001b[0m\u001b[1;33m\u001b[0m\u001b[1;33m\u001b[0m\u001b[0m\n\u001b[0m",
      "\u001b[1;31mIndexError\u001b[0m: list index out of range"
     ]
    }
   ],
   "source": [
    "list = [0,1,2,3,3,5,6,7]\n",
    "print(\"list range:\", len(list))\n",
    "print(\"You can go up to\", len(list)-1)\n",
    "list[8]"
   ]
  },
  {
   "cell_type": "markdown",
   "metadata": {},
   "source": [
    "Impossible to go through the maximum size of a list. A list begins at 0, then you could go until N-1."
   ]
  },
  {
   "cell_type": "code",
   "execution_count": 28,
   "metadata": {},
   "outputs": [
    {
     "ename": "ValueError",
     "evalue": "math domain error",
     "output_type": "error",
     "traceback": [
      "\u001b[1;31m---------------------------------------------------------------------------\u001b[0m",
      "\u001b[1;31mValueError\u001b[0m                                Traceback (most recent call last)",
      "\u001b[1;32m<ipython-input-28-7d6058f39b47>\u001b[0m in \u001b[0;36m<module>\u001b[1;34m\u001b[0m\n\u001b[0;32m      1\u001b[0m \u001b[1;32mimport\u001b[0m \u001b[0mmath\u001b[0m \u001b[1;32mas\u001b[0m \u001b[0mm\u001b[0m\u001b[1;33m\u001b[0m\u001b[1;33m\u001b[0m\u001b[0m\n\u001b[1;32m----> 2\u001b[1;33m \u001b[0mm\u001b[0m\u001b[1;33m.\u001b[0m\u001b[0msqrt\u001b[0m\u001b[1;33m(\u001b[0m\u001b[1;33m-\u001b[0m\u001b[1;36m1.0\u001b[0m\u001b[1;33m)\u001b[0m\u001b[1;33m\u001b[0m\u001b[1;33m\u001b[0m\u001b[0m\n\u001b[0m",
      "\u001b[1;31mValueError\u001b[0m: math domain error"
     ]
    }
   ],
   "source": [
    "import math as m\n",
    "m.sqrt(-1.0)"
   ]
  },
  {
   "cell_type": "markdown",
   "metadata": {},
   "source": [
    "The value is out of the R domain (imaginary domain), thus, it throws an exception."
   ]
  },
  {
   "cell_type": "code",
   "execution_count": 29,
   "metadata": {},
   "outputs": [
    {
     "ename": "NameError",
     "evalue": "name 'undeclared_variable' is not defined",
     "output_type": "error",
     "traceback": [
      "\u001b[1;31m---------------------------------------------------------------------------\u001b[0m",
      "\u001b[1;31mNameError\u001b[0m                                 Traceback (most recent call last)",
      "\u001b[1;32m<ipython-input-29-96655d65ec39>\u001b[0m in \u001b[0;36m<module>\u001b[1;34m\u001b[0m\n\u001b[1;32m----> 1\u001b[1;33m \u001b[0mprint\u001b[0m\u001b[1;33m(\u001b[0m\u001b[0mundeclared_variable\u001b[0m\u001b[1;33m)\u001b[0m\u001b[1;33m\u001b[0m\u001b[1;33m\u001b[0m\u001b[0m\n\u001b[0m",
      "\u001b[1;31mNameError\u001b[0m: name 'undeclared_variable' is not defined"
     ]
    }
   ],
   "source": [
    "print(undeclared_variable)"
   ]
  },
  {
   "cell_type": "markdown",
   "metadata": {},
   "source": [
    "The interpreter doesn't know anything (value and memory region) about the variable, so it can't work with it."
   ]
  },
  {
   "cell_type": "code",
   "execution_count": 31,
   "metadata": {},
   "outputs": [
    {
     "ename": "FileNotFoundError",
     "evalue": "[Errno 2] No such file or directory: 'secret_FBI_area51.txt'",
     "output_type": "error",
     "traceback": [
      "\u001b[1;31m---------------------------------------------------------------------------\u001b[0m",
      "\u001b[1;31mFileNotFoundError\u001b[0m                         Traceback (most recent call last)",
      "\u001b[1;32m<ipython-input-31-82334ddfac02>\u001b[0m in \u001b[0;36m<module>\u001b[1;34m\u001b[0m\n\u001b[1;32m----> 1\u001b[1;33m \u001b[0mtrollFile\u001b[0m \u001b[1;33m=\u001b[0m \u001b[0mopen\u001b[0m\u001b[1;33m(\u001b[0m\u001b[1;34m'secret_FBI_area51.txt'\u001b[0m\u001b[1;33m,\u001b[0m \u001b[1;34m'r'\u001b[0m\u001b[1;33m)\u001b[0m\u001b[1;33m\u001b[0m\u001b[1;33m\u001b[0m\u001b[0m\n\u001b[0m",
      "\u001b[1;31mFileNotFoundError\u001b[0m: [Errno 2] No such file or directory: 'secret_FBI_area51.txt'"
     ]
    }
   ],
   "source": [
    "trollFile = open('secret_FBI_area51.txt', 'r')"
   ]
  },
  {
   "cell_type": "markdown",
   "metadata": {},
   "source": [
    "The interpreter can't find either the file or the directory if it doesn't exist."
   ]
  },
  {
   "cell_type": "markdown",
   "metadata": {},
   "source": [
    "Question 14"
   ]
  },
  {
   "cell_type": "code",
   "execution_count": 40,
   "metadata": {},
   "outputs": [
    {
     "name": "stdout",
     "output_type": "stream",
     "text": [
      "a\n",
      "about\n",
      "all\n",
      "also\n",
      "am\n",
      "an\n",
      "are\n",
      "as\n",
      "at\n",
      "be\n",
      "because\n",
      "been\n",
      "but\n",
      "by\n",
      "can\n",
      "could\n",
      "did\n",
      "do\n",
      "even\n",
      "for\n",
      "from\n",
      "get\n",
      "going\n",
      "got\n",
      "had\n",
      "has\n",
      "have\n",
      "he\n",
      "her\n",
      "here\n",
      "him\n",
      "his\n",
      "how\n",
      "i\n",
      "if\n",
      "into\n",
      "is\n",
      "it\n",
      "like\n",
      "me\n",
      "much\n",
      "my\n",
      "no\n",
      "now\n",
      "of\n",
      "off\n",
      "one\n",
      "only\n",
      "or\n",
      "other\n",
      "out\n",
      "over\n",
      "see\n",
      "she\n",
      "should\n",
      "a\n",
      "about\n",
      "all\n",
      "also\n",
      "am\n",
      "an\n",
      "are\n",
      "as\n",
      "at\n",
      "be\n",
      "because\n",
      "been\n",
      "but\n",
      "by\n",
      "can\n",
      "could\n",
      "did\n",
      "do\n",
      "even\n",
      "for\n",
      "from\n",
      "get\n",
      "going\n",
      "got\n",
      "had\n",
      "has\n",
      "have\n",
      "he\n",
      "her\n",
      "here\n",
      "him\n",
      "his\n",
      "how\n",
      "i\n",
      "if\n",
      "into\n",
      "is\n",
      "it\n",
      "like\n",
      "me\n",
      "much\n",
      "my\n",
      "no\n",
      "now\n",
      "of\n",
      "off\n",
      "one\n",
      "only\n",
      "or\n",
      "other\n",
      "out\n",
      "over\n",
      "see\n",
      "she\n",
      "should\n",
      "so\n",
      "some\n",
      "than\n",
      "their\n",
      "them\n",
      "then\n",
      "there\n",
      "these\n",
      "they\n",
      "this\n",
      "to\n",
      "too\n",
      "up\n",
      "want\n",
      "was\n",
      "we\n",
      "well\n",
      "were\n",
      "what\n",
      "when\n",
      "where\n",
      "which\n",
      "who\n",
      "will\n",
      "with\n",
      "within\n",
      "would\n",
      "you\n",
      "your\n"
     ]
    }
   ],
   "source": [
    "with open('stop.txt','r') as f: \n",
    "    with open('clean.txt','w') as w:\n",
    "        for line in f:\n",
    "            for word in line.split():\n",
    "                if (word != \"in\" and word != \"on\" and word != \"and\" and word != \"the\" and word != \"that\"):\n",
    "                    w.write(word+\"\\n\")\n",
    "                    print(word)\n",
    "        w.close()\n",
    "    f.close()"
   ]
  },
  {
   "cell_type": "markdown",
   "metadata": {},
   "source": [
    "Question 15"
   ]
  },
  {
   "cell_type": "code",
   "execution_count": 34,
   "metadata": {},
   "outputs": [
    {
     "name": "stdout",
     "output_type": "stream",
     "text": [
      "Patriotism is the virtue of the vicious. \n"
     ]
    }
   ],
   "source": [
    "def quotes(file, index):\n",
    "    f = open(file, 'r')\n",
    "    quotations = f.read().split('\\n')\n",
    "    ith = quotations[index]\n",
    "    f.close()\n",
    "    return ith\n",
    "\n",
    "print(quotes('Wilde_Quotes.txt', 23))"
   ]
  },
  {
   "cell_type": "code",
   "execution_count": null,
   "metadata": {},
   "outputs": [],
   "source": []
  }
 ],
 "metadata": {
  "kernelspec": {
   "display_name": "Python 3",
   "language": "python",
   "name": "python3"
  },
  "language_info": {
   "codemirror_mode": {
    "name": "ipython",
    "version": 3
   },
   "file_extension": ".py",
   "mimetype": "text/x-python",
   "name": "python",
   "nbconvert_exporter": "python",
   "pygments_lexer": "ipython3",
   "version": "3.7.4"
  }
 },
 "nbformat": 4,
 "nbformat_minor": 2
}
